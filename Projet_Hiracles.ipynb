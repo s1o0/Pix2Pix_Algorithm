{
  "nbformat": 4,
  "nbformat_minor": 0,
  "metadata": {
    "colab": {
      "name": "Projet_Hiracles.ipynb",
      "provenance": [],
      "collapsed_sections": [],
      "mount_file_id": "1Ty4NuMzgEA5_8v4G6QUTR5Dy_atic5xi",
      "authorship_tag": "ABX9TyMq7XyRJOTkJBiSD9m4slzM",
      "include_colab_link": true
    },
    "kernelspec": {
      "name": "python3",
      "display_name": "Python 3"
    },
    "language_info": {
      "name": "python"
    },
    "accelerator": "GPU"
  },
  "cells": [
    {
      "cell_type": "markdown",
      "metadata": {
        "id": "view-in-github",
        "colab_type": "text"
      },
      "source": [
        "<a href=\"https://colab.research.google.com/github/s1o0/pix2pix_HIRACLES_Project/blob/main/Projet_Hiracles.ipynb\" target=\"_parent\"><img src=\"https://colab.research.google.com/assets/colab-badge.svg\" alt=\"Open In Colab\"/></a>"
      ]
    },
    {
      "cell_type": "code",
      "execution_count": 1,
      "metadata": {
        "id": "L3JN4ircYQ9f"
      },
      "outputs": [],
      "source": [
        "\n",
        "!mkdir result dataset\n",
        "!mkdir result/facades"
      ]
    },
    {
      "cell_type": "code",
      "source": [
        "!mkdir dataset/facades"
      ],
      "metadata": {
        "id": "Hr9V35TyZfTV"
      },
      "execution_count": 3,
      "outputs": []
    },
    {
      "cell_type": "code",
      "source": [
        "!mkdir dataset/facades/test/ dataset/facades/train/"
      ],
      "metadata": {
        "id": "SjA7Is8cZt09"
      },
      "execution_count": 4,
      "outputs": []
    },
    {
      "cell_type": "code",
      "source": [
        "!mkdir checkpoint \n",
        "!mkdir checkpoint/facades"
      ],
      "metadata": {
        "id": "LFX_mD0Vd40g"
      },
      "execution_count": 2,
      "outputs": []
    },
    {
      "cell_type": "code",
      "source": [
        "!pip install torch torchvision pillow torch.utils numpy"
      ],
      "metadata": {
        "colab": {
          "base_uri": "https://localhost:8080/"
        },
        "id": "KH0d3ruGhCIp",
        "outputId": "0852411a-4ff1-42b0-d9ea-1bd78727e20f"
      },
      "execution_count": null,
      "outputs": [
        {
          "output_type": "stream",
          "name": "stdout",
          "text": [
            "Requirement already satisfied: torch in /usr/local/lib/python3.7/dist-packages (1.11.0+cu113)\n",
            "Requirement already satisfied: torchvision in /usr/local/lib/python3.7/dist-packages (0.12.0+cu113)\n",
            "Requirement already satisfied: pillow in /usr/local/lib/python3.7/dist-packages (7.1.2)\n",
            "Collecting torch.utils\n",
            "  Downloading torch-utils-0.1.2.tar.gz (4.9 kB)\n",
            "Requirement already satisfied: numpy in /usr/local/lib/python3.7/dist-packages (1.21.6)\n",
            "Requirement already satisfied: typing-extensions in /usr/local/lib/python3.7/dist-packages (from torch) (4.2.0)\n",
            "Requirement already satisfied: requests in /usr/local/lib/python3.7/dist-packages (from torchvision) (2.23.0)\n",
            "Requirement already satisfied: idna<3,>=2.5 in /usr/local/lib/python3.7/dist-packages (from requests->torchvision) (2.10)\n",
            "Requirement already satisfied: urllib3!=1.25.0,!=1.25.1,<1.26,>=1.21.1 in /usr/local/lib/python3.7/dist-packages (from requests->torchvision) (1.24.3)\n",
            "Requirement already satisfied: certifi>=2017.4.17 in /usr/local/lib/python3.7/dist-packages (from requests->torchvision) (2021.10.8)\n",
            "Requirement already satisfied: chardet<4,>=3.0.2 in /usr/local/lib/python3.7/dist-packages (from requests->torchvision) (3.0.4)\n",
            "Building wheels for collected packages: torch.utils\n",
            "  Building wheel for torch.utils (setup.py) ... \u001b[?25l\u001b[?25hdone\n",
            "  Created wheel for torch.utils: filename=torch_utils-0.1.2-py3-none-any.whl size=6202 sha256=4d00bd5e3fd9de4d624cb82bb408dc27dfeef2e12f237d3e964fce2531298cdd\n",
            "  Stored in directory: /root/.cache/pip/wheels/5d/c0/1d/a539c1c2a4d41c5d7109899289cded24fe1320b6a6c7b02a4c\n",
            "Successfully built torch.utils\n",
            "Installing collected packages: torch.utils\n",
            "Successfully installed torch.utils-0.1.2\n"
          ]
        }
      ]
    },
    {
      "cell_type": "markdown",
      "source": [
        "ENTRAINEMENT"
      ],
      "metadata": {
        "id": "it8JgW7PkVLq"
      }
    },
    {
      "cell_type": "code",
      "source": [
        "!cp -r drive/MyDrive/facades/train/b/ dataset/facades/test/ ###facades -> test & test -> facades"
      ],
      "metadata": {
        "id": "4JPHAjiKoN6s"
      },
      "execution_count": 8,
      "outputs": []
    },
    {
      "cell_type": "markdown",
      "source": [
        "ENTRAINEMENT 2\n"
      ],
      "metadata": {
        "id": "vY9SBTVKxBLV"
      }
    },
    {
      "cell_type": "code",
      "source": [
        "!python3 train.py --dataset facades --cuda --batch_size 4 --threads 2"
      ],
      "metadata": {
        "colab": {
          "base_uri": "https://localhost:8080/"
        },
        "id": "6JRuqytVxELr",
        "outputId": "83df910d-d9a0-4a52-e3c9-87ab916f8cde"
      },
      "execution_count": null,
      "outputs": [
        {
          "output_type": "stream",
          "name": "stdout",
          "text": [
            "Namespace(batch_size=4, beta1=0.5, cuda=True, dataset='facades', direction='b2a', epoch_count=1, input_nc=3, lamb=10, lr=0.0002, lr_decay_iters=50, lr_policy='lambda', ndf=64, ngf=64, niter=100, niter_decay=100, output_nc=3, seed=123, test_batch_size=1, threads=2)\n",
            "===> Loading datasets\n",
            "===> Building models\n",
            "initialize network with normal\n",
            "initialize network with normal\n",
            "===> Epoch[1](1/3): Loss_D: 1.3319 Loss_G: 37.5270\n",
            "===> Epoch[1](2/3): Loss_D: 18.9656 Loss_G: 12.1882\n",
            "===> Epoch[1](3/3): Loss_D: 1.8910 Loss_G: 14.6438\n",
            "learning rate = 0.0002000\n",
            "learning rate = 0.0002000\n",
            "===> Avg. PSNR: 0.9942 dB\n"
          ]
        }
      ]
    }
  ]
}